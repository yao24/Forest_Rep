{
 "cells": [
  {
   "cell_type": "code",
   "execution_count": 1,
   "metadata": {},
   "outputs": [],
   "source": [
    "import matplotlib.pyplot as plt\n",
    "import numpy as np\n",
    "from sympy import *"
   ]
  },
  {
   "cell_type": "code",
   "execution_count": 2,
   "metadata": {},
   "outputs": [],
   "source": [
    "# user defined parameters\n",
    "u = 2   # velocity\n",
    "Tf = 2  # final time\n",
    "ax = -1; bx = 1\n",
    "sigma = 1/8\n",
    "#qinit = lambda x: np.exp(-(x/(2*sigma))**2)\n",
    "qinit = lambda x : np.sin(2*np.pi*x)\n",
    "\n",
    "# function f(q(x,t)) = u*q(x,t)\n",
    "\n",
    "fe = lambda q: u*q\n"
   ]
  },
  {
   "cell_type": "code",
   "execution_count": 3,
   "metadata": {},
   "outputs": [],
   "source": [
    "N = 3 # order of the legendre polynomial\n",
    "Q = N+1\n",
    "a = 0.1  # CFL number"
   ]
  },
  {
   "cell_type": "code",
   "execution_count": 4,
   "metadata": {},
   "outputs": [],
   "source": [
    "def Lobatto_deriv(Q, x):\n",
    "    F = [] # array containing the polynomials\n",
    "    dF = []\n",
    "    ddF = []\n",
    "\n",
    "\n",
    "    f0 = 1; F.append(f0)  # first polynomial\n",
    "    df0 = 0; dF.append(df0)\n",
    "    f1 = x; F.append(f1)  # second polynomial\n",
    "    df1 = 1; dF.append(df1)\n",
    "    ddF = [0,0]\n",
    "\n",
    "    B = []\n",
    "    dB = []\n",
    "\n",
    "\n",
    "    for i in range(2, Q+1):\n",
    "        fi = ((2*i-1)/i)*x*F[i-1] - ((i-1)/i)*F[i-2]  # iteration of the polynomials\n",
    "        dfi = i*F[i-1] + x*dF[i-1]                    # first derivative\n",
    "        F.append(fi)\n",
    "        dF.append(dfi)\n",
    "        ddfi = (i+1.0)*dF[i-1] + x*ddF[i-1]           # second derivative\n",
    "        ddF.append(ddfi)\n",
    "\n",
    "        bi = (1.0-x**2)*dF[i-1]                       # lobatto polynomial\n",
    "        dbi = -2.0*x*dF[i-1] + (1.0-x**2)*ddF[i-1]    # derivative of lobatto polynomial\n",
    "        B.append(bi)\n",
    "        dB.append(dbi)\n",
    "        \n",
    "    return B[-1], dB[-1]"
   ]
  },
  {
   "cell_type": "code",
   "execution_count": 5,
   "metadata": {},
   "outputs": [],
   "source": [
    "def Legendre_deriv(Q, x):\n",
    "    L = [] # array containing the polynomials\n",
    "    dL = []\n",
    "\n",
    "\n",
    "    f0 = 1; L.append(f0)  # first polynomial\n",
    "    df0 = 0; dL.append(df0)\n",
    "    f1 = x; L.append(f1)  # second polynomial\n",
    "    df1 = 1; dL.append(df1)\n",
    "    \n",
    "\n",
    "    for i in range(2, Q+1):\n",
    "        fi = ((2*i-1)/i)*x*L[i-1] - ((i-1)/i)*L[i-2]  # iteration of the polynomials\n",
    "        dfi = i*L[i-1] + x*dL[i-1]\n",
    "        L.append(fi)\n",
    "        dL.append(dfi)\n",
    "        \n",
    "    return L[-1], dL[-1]"
   ]
  },
  {
   "cell_type": "code",
   "execution_count": 6,
   "metadata": {},
   "outputs": [],
   "source": [
    "def Lobatto_p(Q):\n",
    "    X = []  # Array that contains legendre points\n",
    "    K = 100  # Order of approximation of Newton method\n",
    "    e = 10**(-20) #error\n",
    "    for i in range(0, Q+1):\n",
    "        xi0 = np.cos(((2*i+1)/(2*Q+2))*np.pi)   # Chebchev points\n",
    "        \n",
    "\n",
    "        xik = xi0\n",
    "\n",
    "        for k in range(0, K):\n",
    "            out1, out2 = Lobatto_deriv(Q+1, xik)\n",
    "            xikk = xik - out1/out2   # approximation of the solution using Newton\n",
    "\n",
    "            if abs(xikk-xik) < e:\n",
    "\n",
    "                break\n",
    "\n",
    "            xik = xikk\n",
    "\n",
    "        X.append(xikk)\n",
    "    return X"
   ]
  },
  {
   "cell_type": "code",
   "execution_count": 7,
   "metadata": {},
   "outputs": [],
   "source": [
    "def LagrangeBasis(N, i, xl, Xr):\n",
    "    \n",
    "    L = 1\n",
    "    dL = 0\n",
    "        \n",
    "    for j in range(N+1):\n",
    "            \n",
    "        prod = 1\n",
    "        \n",
    "        if (j != i):\n",
    "            L = L*(xl-Xr[j])/(Xr[i]-Xr[j])\n",
    "                \n",
    "            for k in range(N+1):\n",
    "                if (k!=i  and k!=j):\n",
    "                    prod = prod*(xl-Xr[k])/(Xr[i]-Xr[k])\n",
    "        \n",
    "            dL = dL+prod/(Xr[i]-Xr[j])\n",
    "    return L, dL"
   ]
  },
  {
   "cell_type": "markdown",
   "metadata": {},
   "source": [
    "## Array intma"
   ]
  },
  {
   "cell_type": "code",
   "execution_count": 8,
   "metadata": {},
   "outputs": [],
   "source": [
    "def intma(e, N):\n",
    "    t = (e-1)*N\n",
    "    r = N*e\n",
    "    intmm = []\n",
    "    for s in range(t, r+1):\n",
    "        intmm.append(s)\n",
    "    \n",
    "    return np.array(intmm)\n"
   ]
  },
  {
   "cell_type": "markdown",
   "metadata": {},
   "source": [
    "## Weight values"
   ]
  },
  {
   "cell_type": "code",
   "execution_count": 9,
   "metadata": {},
   "outputs": [],
   "source": [
    "#funtion that compute weight values based on quadrature rule\n",
    "def weight(Q):\n",
    "    xi = Lobatto_p(Q)\n",
    "    w = np.zeros(Q+1)\n",
    "    for i in range(Q+1):\n",
    "        out1, out2 = Legendre_deriv(Q, xi[i])\n",
    "        w[i] = 2/(Q*(Q+1)*(out1)**2)\n",
    "        \n",
    "    return w \n",
    "\n",
    "#weight(Q)"
   ]
  },
  {
   "cell_type": "markdown",
   "metadata": {},
   "source": [
    "## Element mass matrix"
   ]
  },
  {
   "cell_type": "code",
   "execution_count": 10,
   "metadata": {},
   "outputs": [],
   "source": [
    "def Element_matrix(N,Q):\n",
    "    Me = np.zeros((N+1, N+1))       # initialisation of the matrix\n",
    "    Xr = Lobatto_p(N)               # roots\n",
    "    Xi = Lobatto_p(Q)               # Lobatto points\n",
    "    w = weight(Q)                   # weight values\n",
    "\n",
    "    for i in range(N+1):\n",
    "\n",
    "        for j in range(N+1):\n",
    "            for k in range(Q+1):\n",
    "                xi, a1 = LagrangeBasis(N, i, Xi[k], Xr)\n",
    "                xj, a2 = LagrangeBasis(N, j, Xi[k], Xr)\n",
    "                Me[i,j] = Me[i,j]+ w[k]*xi*xj\n",
    "\n",
    "\n",
    "\n",
    "    Me = (1/2)*Me\n",
    "\n",
    "    return Me\n"
   ]
  },
  {
   "cell_type": "markdown",
   "metadata": {},
   "source": [
    "## Global mass matrix"
   ]
  },
  {
   "cell_type": "code",
   "execution_count": 11,
   "metadata": {},
   "outputs": [],
   "source": [
    "def GMM(Ne, intma, N, Q):\n",
    "    \n",
    "    Np = Ne*N+1\n",
    "    \n",
    "    w = weight(Q)\n",
    "    Me = Element_matrix(N,Q)\n",
    "    M = np.zeros((Np, Np))\n",
    "    \n",
    "    for e in range(1,Ne+1):\n",
    "        for j in range(N+1):\n",
    "            \n",
    "            J = intma(e, N)[j]\n",
    "            \n",
    "            for i in range(N+1):\n",
    "                \n",
    "                I = intma(e, N)[i]\n",
    "                \n",
    "                M[I,J] = M[I,J] + ((bx-ax)/Ne)*Me[i,j]\n",
    "    return M\n",
    "\n",
    "#Matrix(MM)"
   ]
  },
  {
   "cell_type": "markdown",
   "metadata": {},
   "source": [
    "## Differential element matrix"
   ]
  },
  {
   "cell_type": "code",
   "execution_count": 12,
   "metadata": {},
   "outputs": [],
   "source": [
    "def Element_Diff_matrix(N):\n",
    "    De = np.zeros((N+1, N+1))\n",
    "    Xi = Lobatto_p(N)\n",
    "    w = weight(N)\n",
    "\n",
    "    for i in range(N+1):\n",
    "\n",
    "        for j in range(N+1):\n",
    "            for k in range(N+1):\n",
    "                xi, a1 = LagrangeBasis(N, i, Xi[k], Xi)\n",
    "                a2, xj = LagrangeBasis(N, j, Xi[k], Xi)\n",
    "                De[i,j] = De[i,j]- w[k]*xi*xj\n",
    "\n",
    "    return De\n",
    "\n",
    "De = Element_Diff_matrix(N)"
   ]
  },
  {
   "cell_type": "code",
   "execution_count": null,
   "metadata": {},
   "outputs": [],
   "source": []
  },
  {
   "cell_type": "markdown",
   "metadata": {},
   "source": [
    "# Function for that compute residual global vector"
   ]
  },
  {
   "cell_type": "code",
   "execution_count": 13,
   "metadata": {},
   "outputs": [],
   "source": [
    "# function that compute global residual vector\n",
    "\n",
    "def Resi(Ne, q, N,Miv):\n",
    "    \n",
    "    Np = Ne*N+1\n",
    "    \n",
    "    fe = lambda q: u*q\n",
    "    \n",
    "    R = np.zeros(Np)                 # global residual vector\n",
    "    \n",
    "    for e in range(1, Ne+1):         # element loop\n",
    "\n",
    "        # discretizing into element \n",
    "\n",
    "        Ie  = intma(e, N)\n",
    "        \n",
    "        # discretizing into element \n",
    "        \n",
    "        qe = q[Ie]\n",
    "               \n",
    "        # residual for each element\n",
    "\n",
    "        Re = np.zeros(N+1)\n",
    "\n",
    "        for i in range(N+1):\n",
    "        \n",
    "            Re[i] = - np.dot(De[i],fe(qe))\n",
    "            \n",
    "            # compuataion of global residual vector\n",
    "\n",
    "            I = Ie[i] #intma(e,N)[i]            \n",
    "\n",
    "            R[I] = R[I] + Re[i]\n",
    "    \n",
    "    # reinitialisation of the global residual vector using inverse mass matrix\n",
    "    \n",
    "    GR = np.zeros(Np) \n",
    "    \n",
    "    for I in range(Np):\n",
    "        \n",
    "        GR[I] = np.dot(Miv[I],R)\n",
    "        \n",
    "    return GR"
   ]
  },
  {
   "cell_type": "markdown",
   "metadata": {},
   "source": [
    "# Solver for 1D wave equation: Time integration (RK4)"
   ]
  },
  {
   "cell_type": "code",
   "execution_count": 14,
   "metadata": {},
   "outputs": [],
   "source": [
    "def Solver_1DW(N,Ne,M, x,t,dt):\n",
    "    \n",
    "    \n",
    "    q0 = qinit(x)         # defined initial condition\n",
    "    \n",
    "    # Boundary conditions\n",
    "\n",
    "    q0[0] = qinit(ax) \n",
    "    q0[-1] = qinit(bx) \n",
    "\n",
    "    \n",
    "    #inverse of global mass matrix\n",
    "    \n",
    "    MM = GMM(Ne, intma, N, Q)\n",
    "    \n",
    "    Miv = np.linalg.inv(MM)     \n",
    "\n",
    "    # computation of the solution of 1D wave equation\n",
    "    qn = q0     \n",
    "\n",
    "    for n in range(M):                   # time loop\n",
    "\n",
    "        K1 = Resi(Ne, qn,N, Miv)\n",
    "\n",
    "        # soultion for the wave equation at time n+1\n",
    "\n",
    "        qh = qn + (dt/2)*K1\n",
    "\n",
    "        K2 = Resi(Ne,qh, N,Miv)\n",
    "        \n",
    "        Ph = qn + (dt/2)*K2\n",
    "        \n",
    "        K3 = Resi(Ne, Ph, N, Miv)\n",
    "        \n",
    "        P = qn + dt*K3\n",
    "        \n",
    "        K4 = Resi(Ne, P, N, Miv)\n",
    "        \n",
    "\n",
    "        qn1 = qn + (dt/6)*(K1+2*K2+2*K3+K4) \n",
    "\n",
    "        qn1[0] = qinit(ax-u*t[n+1])\n",
    "        qn1[-1] = qinit(bx-u*t[n+1])\n",
    "        \n",
    "        qn = qn1\n",
    "    \n",
    "    return qn1"
   ]
  },
  {
   "cell_type": "code",
   "execution_count": 24,
   "metadata": {},
   "outputs": [
    {
     "data": {
      "image/png": "[encoded data removed]",
      "text/plain": [
       "<Figure size 432x288 with 1 Axes>"
      ]
     },
     "metadata": {
      "needs_background": "light"
     },
     "output_type": "display_data"
    },
    {
     "data": {
      "image/png": "[encoded data removed]",
      "text/plain": [
       "<Figure size 432x288 with 1 Axes>"
      ]
     },
     "metadata": {
      "needs_background": "light"
     },
     "output_type": "display_data"
    },
    {
     "data": {
      "image/png": "[encoded data removed]",
      "text/plain": [
       "<Figure size 432x288 with 1 Axes>"
      ]
     },
     "metadata": {
      "needs_background": "light"
     },
     "output_type": "display_data"
    }
   ],
   "source": [
    "# list of the number of elements\n",
    "\n",
    "NE = [40,60,80]\n",
    "l = len(NE)\n",
    "\n",
    "# array that contains the error for each iteration\n",
    "Error = np.zeros(l)\n",
    "\n",
    "for ne in range(l):\n",
    "    \n",
    "    Ne = NE[ne]\n",
    "    Np = N*Ne+1\n",
    "    \n",
    "    # space stuff\n",
    "    #x = np.linspace(-1, 1, Np)\n",
    "    #x = np.array(Lobatto_p(Np-1))\n",
    "    x=np.zeros(Np)\n",
    "    xel=np.linspace(-1,1,Ne+1)\n",
    "    xe2=np.array(Lobatto_p(N))\n",
    "    xe=xe2[::-1]\n",
    "    for e in range(1,Ne+1):\n",
    "        a=xel[e-1] ; b=xel[e]\n",
    "       \n",
    "        xsi=((b-a)/2)*(xe-1) + b\n",
    "        #print('a=',a)\n",
    "        #print('b=',b)\n",
    "        #print('xsi=',xsi)\n",
    "        for i in range(0,N+1):\n",
    "            ip=intma(e,N)[i]\n",
    "            #print('ip=',ip)\n",
    "            x[ip]=xsi[i]\n",
    "    #x = np.linspace(-1, 1, Np)\n",
    "    \n",
    "    dx = (bx-ax)/(Np-1)   # for second order\n",
    "\n",
    "    #time stuff\n",
    "\n",
    "    dtest = a*dx/np.abs(u)\n",
    "    M = Tf//dtest+1    # Number of time steps\n",
    "    M = int(M)\n",
    "    t = np.linspace(0, Tf, M+1)\n",
    "    dt = Tf/M\n",
    "    \n",
    "    # approximate solution of the wave equation\n",
    "    q = Solver_1DW(N,Ne,M,x,t,dt)\n",
    "    \n",
    "    # exact solution\n",
    "    q_exact = qinit(x-u*t[M])\n",
    "    #error\n",
    "    error = np.abs(q-q_exact)\n",
    "    Error[ne] = np.max(error)\n",
    "    \n",
    "    #plot of the computed and exact solutions\n",
    "    \n",
    "    plt.figure(ne)\n",
    "    plt.plot(x, q, label = 'Computed: Ne = {}'.format(Ne))\n",
    "    plt.plot(x, q_exact, '--', label = 'Exact: Ne = {}'.format(Ne))\n",
    "    \n",
    "    plt.xlabel('NE')\n",
    "    plt.ylabel('q')\n",
    "    plt.legend()\n",
    "    plt.grid() \n",
    "    \n",
    "    "
   ]
  },
  {
   "cell_type": "code",
   "execution_count": 16,
   "metadata": {},
   "outputs": [
    {
     "data": {
      "text/plain": [
       "array([-1.        , -0.98618034, -0.96381966, -0.95      , -0.93618034,\n",
       "       -0.91381966, -0.9       , -0.88618034, -0.86381966, -0.85      ,\n",
       "       -0.83618034, -0.81381966, -0.8       , -0.78618034, -0.76381966,\n",
       "       -0.75      , -0.73618034, -0.71381966, -0.7       , -0.68618034,\n",
       "       -0.66381966, -0.65      , -0.63618034, -0.61381966, -0.6       ,\n",
       "       -0.58618034, -0.56381966, -0.55      , -0.53618034, -0.51381966,\n",
       "       -0.5       , -0.48618034, -0.46381966, -0.45      , -0.43618034,\n",
       "       -0.41381966, -0.4       , -0.38618034, -0.36381966, -0.35      ,\n",
       "       -0.33618034, -0.31381966, -0.3       , -0.28618034, -0.26381966,\n",
       "       -0.25      , -0.23618034, -0.21381966, -0.2       , -0.18618034,\n",
       "       -0.16381966, -0.15      , -0.13618034, -0.11381966, -0.1       ,\n",
       "       -0.08618034, -0.06381966, -0.05      , -0.03618034, -0.01381966,\n",
       "        0.        ,  0.01381966,  0.03618034,  0.05      ,  0.06381966,\n",
       "        0.08618034,  0.1       ,  0.11381966,  0.13618034,  0.15      ,\n",
       "        0.16381966,  0.18618034,  0.2       ,  0.21381966,  0.23618034,\n",
       "        0.25      ,  0.26381966,  0.28618034,  0.3       ,  0.31381966,\n",
       "        0.33618034,  0.35      ,  0.36381966,  0.38618034,  0.4       ,\n",
       "        0.41381966,  0.43618034,  0.45      ,  0.46381966,  0.48618034,\n",
       "        0.5       ,  0.51381966,  0.53618034,  0.55      ,  0.56381966,\n",
       "        0.58618034,  0.6       ,  0.61381966,  0.63618034,  0.65      ,\n",
       "        0.66381966,  0.68618034,  0.7       ,  0.71381966,  0.73618034,\n",
       "        0.75      ,  0.76381966,  0.78618034,  0.8       ,  0.81381966,\n",
       "        0.83618034,  0.85      ,  0.86381966,  0.88618034,  0.9       ,\n",
       "        0.91381966,  0.93618034,  0.95      ,  0.96381966,  0.98618034,\n",
       "        1.        ])"
      ]
     },
     "execution_count": 16,
     "metadata": {},
     "output_type": "execute_result"
    }
   ],
   "source": [
    "x"
   ]
  },
  {
   "cell_type": "code",
   "execution_count": 17,
   "metadata": {},
   "outputs": [
    {
     "data": {
      "text/plain": [
       "[<matplotlib.lines.Line2D at 0x7f410432c150>]"
      ]
     },
     "execution_count": 17,
     "metadata": {},
     "output_type": "execute_result"
    },
    {
     "data": {
      "image/png": "[encoded data removed]",
      "text/plain": [
       "<Figure size 432x288 with 1 Axes>"
      ]
     },
     "metadata": {
      "needs_background": "light"
     },
     "output_type": "display_data"
    }
   ],
   "source": [
    "x\n",
    "x1=np.zeros(len(x))\n",
    "plt.plot(x,x1,'o')"
   ]
  },
  {
   "cell_type": "code",
   "execution_count": 21,
   "metadata": {},
   "outputs": [
    {
     "data": {
      "image/png": "[encoded data removed]",
      "text/plain": [
       "<Figure size 432x288 with 1 Axes>"
      ]
     },
     "metadata": {
      "needs_background": "light"
     },
     "output_type": "display_data"
    }
   ],
   "source": [
    "plt.loglog(NE, Error)\n",
    "plt.show()"
   ]
  },
  {
   "cell_type": "code",
   "execution_count": 22,
   "metadata": {
    "scrolled": true
   },
   "outputs": [
    {
     "name": "stderr",
     "output_type": "stream",
     "text": [
      "/home/brian/anaconda3/lib/python3.7/site-packages/IPython/core/interactiveshell.py:3331: RankWarning: Polyfit may be poorly conditioned\n",
      "  exec(code_obj, self.user_global_ns, self.user_ns)\n"
     ]
    },
    {
     "data": {
      "text/plain": [
       "array([-1.48749999, -5.48720817])"
      ]
     },
     "execution_count": 22,
     "metadata": {},
     "output_type": "execute_result"
    }
   ],
   "source": [
    "p = np.polyfit(np.log(NE), np.log(Error),1)\n",
    "p"
   ]
  },
  {
   "cell_type": "code",
   "execution_count": 23,
   "metadata": {},
   "outputs": [
    {
     "data": {
      "text/plain": [
       "array([1.71345042e-05])"
      ]
     },
     "execution_count": 23,
     "metadata": {},
     "output_type": "execute_result"
    }
   ],
   "source": [
    "Error"
   ]
  },
  {
   "cell_type": "code",
   "execution_count": null,
   "metadata": {},
   "outputs": [],
   "source": []
  }
 ],
 "metadata": {
  "kernelspec": {
   "display_name": "Python 3",
   "language": "python",
   "name": "python3"
  },
  "language_info": {
   "codemirror_mode": {
    "name": "ipython",
    "version": 3
   },
   "file_extension": ".py",
   "mimetype": "text/x-python",
   "name": "python",
   "nbconvert_exporter": "python",
   "pygments_lexer": "ipython3",
   "version": "3.7.6"
  }
 },
 "nbformat": 4,
 "nbformat_minor": 4
}
