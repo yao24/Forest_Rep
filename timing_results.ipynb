{
 "cells": [
  {
   "cell_type": "code",
   "execution_count": null,
   "metadata": {},
   "outputs": [],
   "source": [
    "%matplotlib notebook\n",
    "%pylab"
   ]
  },
  {
   "cell_type": "markdown",
   "metadata": {},
   "source": [
    "## Timing and accuracy results for DG, CG and WPA\n",
    "<hr style=\"border-width:4px; border-color:coral\"></hr>"
   ]
  },
  {
   "cell_type": "code",
   "execution_count": null,
   "metadata": {},
   "outputs": [],
   "source": [
    "import pandas "
   ]
  },
  {
   "cell_type": "code",
   "execution_count": null,
   "metadata": {},
   "outputs": [],
   "source": [
    "idx = pandas.IndexSlice\n",
    "\n",
    "# Walltime     : time TFinal (global time)\n",
    "# Prep         : one time step up time\n",
    "# Integration  : \n",
    "# time steps   : Number of time steps to time tfinal\n",
    "# dt           : Time step size\n",
    "# CFL          : CFL number\n",
    "# Errors       : (1-norm, 2-norm and inf-norm) errors\n",
    "\n",
    "ex_list = ['advection','SWE']\n",
    "\n",
    "cols = ['walltime', 'Prep', 'Integ', 'time steps', 'dt', 'cfl','1-norm','2-norm','inf-norm']\n",
    "\n",
    "order = [1,2,4]\n",
    "elements = [8,16,32,64,128,256,512, 1024, 2048]\n",
    "iterables = [ex_list, ['DG','CG','WPA'],['exact','inexact','w/lim','wout/lim'], order, elements]\n",
    "\n",
    "index = pandas.MultiIndex.from_product(iterables,names=['example','method','integration','order','elements'])\n",
    "df = pandas.DataFrame(index=index,columns=cols).sort_index()\n",
    "\n",
    "df.loc[idx['SWE','CG',['exact','inexact']]]"
   ]
  },
  {
   "cell_type": "markdown",
   "metadata": {},
   "source": [
    "## Read in binary WPA data\n",
    "<hr style=\"border-width:2px; border-color:black\"></hr>\n",
    "\n",
    "Read in data created during simulation.  The data is output in binary using a Numpy dynamic type `dtype`.  The data has to then be read in using the same format.  The file structure is : \n",
    "\n",
    "    Row 1  : nlen               Number of N values in convergence study\n",
    "\n",
    "The following block then repeats four times for order=(1,2), limiter=(0,1)\n",
    "\n",
    "Block :\n",
    "\n",
    "      dtype([('order',int),('limiter',int)])   \n",
    "      \n",
    "      # Followed by N rows of \n",
    "      dtype([('N',int),('wall','d'), ('setup','d'),('integ','d'),('M',int),('dt','d'),('cfl','d'),\n",
    "                  ('1-norm','d'),('2-norm','d'),('inf-norm','d')])\n",
    "                  \n"
   ]
  },
  {
   "cell_type": "code",
   "execution_count": null,
   "metadata": {},
   "outputs": [],
   "source": [
    "output_file = 'WPA/wpa_adv_data.dat'\n",
    "\n",
    "# Open file as a binary file\n",
    "fout = open(output_file,\"rb\")  \n",
    "nlen = fromfile(fout,dtype=int,count=1)\n",
    "\n",
    "# Create a data type for storing results;  use 'd' for double precision entries\n",
    "dt_data = dtype([('N',int),('wall','d'), ('setup','d'),('integ','d'),('M',int),('dt','d'),('cfl','d'),\n",
    "                  ('1-norm','d'),('2-norm','d'),('inf-norm','d')])  \n",
    "\n",
    "# Create a nested data type\n",
    "dt_info = dtype([('order',int),('limiter',int)])\n",
    "dt_block = dtype([('info',dt_info),('data',(dt_data,nlen))])\n",
    "\n",
    "# Read in four sets of data (orders 1,2 and limiters 0,1)\n",
    "wpa_data = fromfile(fout,dtype=dt_block, count=4)\n",
    "fout.close()\n",
    "\n",
    "cols = ['walltime','Prep','Integ','time steps','dt', 'cfl', '1-norm','2-norm','inf-norm']\n",
    "\n",
    "# Store data in DataFrame\n",
    "for k in range(4):     # order=(1,2) x lim=(0,1)\n",
    "    order = wpa_data[k]['info']['order']\n",
    "    lim = wpa_data[k]['info']['limiter']\n",
    "    if lim == 0:        \n",
    "        limidx = 'wout/lim'\n",
    "    else:\n",
    "        limidx = 'w/lim'\n",
    "    \n",
    "    for d in wpa_data[k]['data']:\n",
    "        N = d[0]\n",
    "        a = [d[i] for i in range(1,len(d))]\n",
    "        df.loc[idx['advection','WPA',limidx,order,N],cols] = a\n",
    "\n",
    "\n",
    "# Format the data when displaying the DataFrame\n",
    "\n",
    "fstr = {'walltime' : \"{:.4e}\".format, \n",
    "        'Prep' : \"{:.2e}\".format,\n",
    "        \"dt\" : \"{:.4e}\", \n",
    "        'Integ' : \"{:.4e}\".format,\n",
    "        'cfl' : \"{:.2f}\".format, \n",
    "        '1-norm' : '{:.4e}'.format,\n",
    "        '2-norm' : '{:.4e}'.format,\n",
    "        'inf-norm' : '{:.4e}'.format}\n",
    "        \n",
    "df_wpa = df.loc[idx['advection','WPA',['w/lim','wout/lim'],1:2],:]\n",
    "df_wpa.style.format(fstr)"
   ]
  },
  {
   "cell_type": "markdown",
   "metadata": {},
   "source": [
    "## Read in binary CG/DG data\n",
    "<hr style=\"border-width:2px; border-color:black\"></hr>\n",
    "\n",
    "Read in data created during simulation.  The data is output in binary using a Numpy dynamic type `dtype`.  The data has to then be read in using the same format.  The file structure is : \n",
    "\n",
    "    Row 1  : nlen               Number of N values in convergence study\n",
    "\n",
    "The following block then repeats four times for order=(1,2), limiter=(0,1)\n",
    "\n",
    "Block :\n",
    "\n",
    "      dtype([('order',int),('limiter',int)])   \n",
    "      \n",
    "      # Followed by N rows of \n",
    "      dtype([('N',int),('wall','d'), ('setup','d'),('integ','d'),('M',int),('dt','d'),('cfl','d'),\n",
    "                  ('1-norm','d'),('2-norm','d'),('inf-norm','d')])\n",
    "                  \n"
   ]
  },
  {
   "cell_type": "code",
   "execution_count": null,
   "metadata": {},
   "outputs": [],
   "source": [
    "# Read DG/CG data here\n",
    "\n",
    "output_file = 'CGDG/CG_adv_data.dat'\n",
    "\n",
    "# Open file as a binary file\n",
    "fout = open(output_file,\"rb\")  \n",
    "nlen = fromfile(fout,dtype=int,count=1)\n",
    "\n",
    "# Create a data type for storing results;  use 'd' for double precision entries\n",
    "dt_data = dtype([('N',int),('wall','d'), ('setup','d'),('integ','d'),('M',int),('dt','d'),('cfl','d'),\n",
    "                  ('1-norm','d'),('2-norm','d'),('inf-norm','d')])  \n",
    "\n",
    "# Create a nested data type\n",
    "dt_info = dtype([('order',int)])\n",
    "dt_block = dtype([('info',dt_info),('data',(dt_data,nlen))])\n",
    "\n",
    "# Read in four sets of data (orders 1,2 and limiters 0,1)\n",
    "cgdgdata = fromfile(fout,dtype=dt_block, count=4)\n",
    "fout.close()\n",
    "\n",
    "cols = ['walltime','Prep','Integ','time steps','dt', 'cfl', '1-norm','2-norm','inf-norm']\n",
    "\n",
    "# Store data in DataFrame\n",
    "for k in range(4):     # order=(1,6) x exact=(0,1)\n",
    "    order = cgdg_data[k]['info']['order']\n",
    "    lim = cgdg_data[k]['info']\n",
    "    if lim == 0:        \n",
    "        limidx = 'inexact'\n",
    "    else:\n",
    "        limidx = 'exact'\n",
    "    \n",
    "    for d in wpa_data[k]['data']:\n",
    "        N = d[0]\n",
    "        a = [d[i] for i in range(1,len(d))]\n",
    "        df.loc[idx['advection','CG',limidx,order,N],cols] = a\n",
    "\n",
    "\n",
    "# Format the data when displaying the DataFrame\n",
    "\n",
    "fstr = {'walltime' : \"{:.4e}\".format, \n",
    "        'Prep' : \"{:.2e}\".format,\n",
    "        \"dt\" : \"{:.4e}\", \n",
    "        'Integ' : \"{:.4e}\".format,\n",
    "        'cfl' : \"{:.2f}\".format, \n",
    "        '1-norm' : '{:.4e}'.format,\n",
    "        '2-norm' : '{:.4e}'.format,\n",
    "        'inf-norm' : '{:.4e}'.format}\n",
    "        \n",
    "df_cgdg = df.loc[idx['advection','CG',['exact','inexact'],1:2],:]\n",
    "df_cgdg.style.format(fstr)"
   ]
  },
  {
   "cell_type": "markdown",
   "metadata": {},
   "source": [
    "## Add extra columns\n",
    "<hr style=\"border-width:2px; border-color:black\"></hr>"
   ]
  },
  {
   "cell_type": "code",
   "execution_count": null,
   "metadata": {},
   "outputs": [],
   "source": [
    "# Add a DOF column\n",
    "\n",
    "integration = df.index.levels[2].values\n",
    "orders = df.index.levels[3].values\n",
    "elements = df.index.levels[4].values\n",
    "\n",
    "for o in orders:\n",
    "    # Is this right?  \n",
    "    for I in integration:\n",
    "        df.loc[idx['advection','DG',I,o,:],'DOF'] = (o + 1)*array(elements)\n",
    "        df.loc[idx['advection','CG',I,o,:],'DOF'] = o*array(elements) + 1\n",
    "    \n",
    "# One degree of freedom per element\n",
    "df.loc[idx['advection','WPA','w/lim',1,:],'DOF'] = elements\n",
    "df.loc[idx['advection','WPA','w/lim',2,:],'DOF'] = elements\n",
    "\n",
    "# display data frame\n",
    "df.loc[idx['advection','DG','exact',:,:],:]"
   ]
  },
  {
   "cell_type": "markdown",
   "metadata": {},
   "source": [
    "## Using a MultiIndex table\n",
    "\n",
    "<hr style=\"border-width:4px; border-color:coral\"/>"
   ]
  },
  {
   "cell_type": "code",
   "execution_count": null,
   "metadata": {},
   "outputs": [],
   "source": [
    "# Extract all of the data for one example\n",
    "df.loc['advection']"
   ]
  },
  {
   "cell_type": "code",
   "execution_count": null,
   "metadata": {},
   "outputs": [],
   "source": [
    "df.loc[('advection','WPA',('w/lim','wout/lim')),:]"
   ]
  },
  {
   "cell_type": "code",
   "execution_count": null,
   "metadata": {},
   "outputs": [],
   "source": [
    "df.loc[('advection','DG',('exact')),['walltime','Prep','1-norm','cfl']]\n"
   ]
  },
  {
   "cell_type": "code",
   "execution_count": null,
   "metadata": {},
   "outputs": [],
   "source": [
    "cols = ['walltime','Prep','time steps','1-norm'] \n",
    "df.loc[idx['advection',:,('exact','wout/lim')],cols].unstack(3)"
   ]
  },
  {
   "cell_type": "code",
   "execution_count": null,
   "metadata": {},
   "outputs": [],
   "source": [
    "df.loc[idx['advection',('DG','CG'),'exact',2],:].\\\n",
    "       style.background_gradient(subset=['walltime'],cmap='YlOrBr')"
   ]
  },
  {
   "cell_type": "markdown",
   "metadata": {},
   "source": [
    "## Plotting : CG vs. DG\n",
    "<hr style=\"border-width:4px; border-color:coral\"></hr>"
   ]
  },
  {
   "cell_type": "code",
   "execution_count": null,
   "metadata": {},
   "outputs": [],
   "source": [
    "# set up nice tick marks for log data\n",
    "def set_xticks(P):\n",
    "    p0 = log2(P[0])\n",
    "    p1 = log2(P[-1])\n",
    "    xlim([2**(p0-1), 2**(p1+1)])\n",
    "    \n",
    "    Pstr = (['{:d}'.format(int(p)) for p in P])\n",
    "    xticks(P,Pstr)"
   ]
  },
  {
   "cell_type": "code",
   "execution_count": null,
   "metadata": {},
   "outputs": [],
   "source": [
    "figure(1)\n",
    "clf()\n",
    "\n",
    "# Retrieve element values - level 3 in the Multiindex\n",
    "Nv = df.index.levels[4].values\n",
    "\n",
    "# Retrieve time values \n",
    "time_dg = df.loc[idx['advection','WPA','w/lim',2,:],'walltime'].values\n",
    "time_cg = df.loc[idx['advection','WPA','wout/lim',2,:],'walltime'].values\n",
    "\n",
    "loglog(Nv,time_cg,'r.-',markersize=10,label='DG')\n",
    "loglog(Nv,time_dg,'b.-',markersize=10,label='CG')\n",
    "\n",
    "set_xticks(Nv)\n",
    "\n",
    "title('Timing comparison between CG and CG')\n",
    "xlabel('# of elements')\n",
    "ylabel('Walltime (s)')\n",
    "\n",
    "legend()"
   ]
  },
  {
   "cell_type": "code",
   "execution_count": null,
   "metadata": {},
   "outputs": [],
   "source": []
  }
 ],
 "metadata": {
  "kernelspec": {
   "display_name": "Python 3",
   "language": "python",
   "name": "python3"
  },
  "language_info": {
   "codemirror_mode": {
    "name": "ipython",
    "version": 3
   },
   "file_extension": ".py",
   "mimetype": "text/x-python",
   "name": "python",
   "nbconvert_exporter": "python",
   "pygments_lexer": "ipython3",
   "version": "3.7.4"
  }
 },
 "nbformat": 4,
 "nbformat_minor": 2
}
