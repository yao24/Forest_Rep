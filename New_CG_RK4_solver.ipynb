{
 "cells": [
  {
   "cell_type": "code",
   "execution_count": null,
   "metadata": {},
   "outputs": [],
   "source": [
    "%matplotlib notebook\n",
    "%pylab\n",
    "#%run file.ipynb #calling functions"
   ]
  },
  {
   "cell_type": "code",
   "execution_count": null,
   "metadata": {},
   "outputs": [],
   "source": [
    "from cg_functions import *"
   ]
  },
  {
   "cell_type": "code",
   "execution_count": null,
   "metadata": {},
   "outputs": [],
   "source": [
    "%reload_ext autoreload\n",
    "%autoreload 2"
   ]
  },
  {
   "cell_type": "code",
   "execution_count": null,
   "metadata": {},
   "outputs": [],
   "source": [
    "# user defined parameters\n",
    "u = 2   # velocity\n",
    "Tf = 0.025  # final time\n",
    "ax = -1; \n",
    "bx = 1\n",
    "sigma = 1/8\n",
    "#qinit = lambda x: np.exp(-(x/(2*sigma))**2)\n",
    "qinit = lambda x : sin(2*pi*x)\n",
    "\n",
    "def bc(t):\n",
    "    return qinit(ax-u*t), qinit(bx-u*t)\n",
    "    \n",
    "\n",
    "# function f(q(x,t)) = u*q(x,t)\n",
    "\n",
    "fe = lambda q: u*q\n",
    "a = 0.1"
   ]
  },
  {
   "cell_type": "code",
   "execution_count": null,
   "metadata": {},
   "outputs": [],
   "source": [
    "# Order of polynomials\n",
    "\n",
    "Order = [1,2,3,4, 6, 8]\n",
    "P = []\n",
    "\n",
    "# list of the number of elements\n",
    "NE = array([20,40,80,160])\n",
    "l = len(NE)\n",
    "\n",
    "error_list = []\n",
    "\n",
    "for N in Order:     \n",
    "    Q = N+1    \n",
    "    \n",
    "    xe2 = array(Lobatto_p(N))  # Lobatto point mesh\n",
    "    xe = xe2[::-1]\n",
    "\n",
    "    # array that contains the error for each iteration\n",
    "    Error = zeros(l)\n",
    "    for ne in range(l):\n",
    "\n",
    "        Ne = NE[ne]\n",
    "        Np = N*Ne+1\n",
    "\n",
    "        # space stuff\n",
    "        #x = np.linspace(-1, 1, Np)\n",
    "\n",
    "        x = zeros(Np)\n",
    "        xel = linspace(-1,1,Ne+1)  # Element mesh\n",
    "        for e in range(1,Ne+1):\n",
    "            ae=xel[e-1] ; be=xel[e]\n",
    "\n",
    "            xsi=((be-ae)/2)*(xe-1) + be\n",
    "            #print('a=',a)\n",
    "            #print('b=',b)\n",
    "            #print('xsi=',xsi)\n",
    "            for i in range(0,N+1):\n",
    "                ip=intma(e,N)[i]\n",
    "                #print('ip=',ip)\n",
    "                x[ip]=xsi[i]\n",
    "        #x = np.linspace(-1, 1, Np)\n",
    "\n",
    "        dx = (bx-ax)/(Np-1)   # Average distance between the points\n",
    "\n",
    "        #time stuff\n",
    "\n",
    "        fixed_dt = True\n",
    "        if (fixed_dt):\n",
    "            dx0 = (bx-ax)/(NE[0]*N)\n",
    "            dtest = a*dx0/np.abs(u)\n",
    "            M0 = int(Tf//dtest)+1    # Number of time steps\n",
    "            dt0 = Tf/M0\n",
    "\n",
    "            f = log2(dx0/dx)\n",
    "            dt = dt0/2**f\n",
    "            M = int(M0*2**f)\n",
    "        else:        \n",
    "            dtest = a*dx/np.abs(u)\n",
    "            M = int(Tf//dtest)+1    # Number of time steps\n",
    "            dt = Tf/M\n",
    "\n",
    "        print('N = {:d}, time_step(M = {:d})'.format(N,M))\n",
    "\n",
    "        t = linspace(0, Tf, M+1)\n",
    "\n",
    "        # approximate solution of the wave equation\n",
    "        q = Solver_1DW(N,Ne,M,Q,qinit,fe,bc,ax,bx,x,t,dt)\n",
    "\n",
    "        # exact solution\n",
    "        q_exact = qinit(x-u*t[M])\n",
    "        #error\n",
    "        error = abs(q-q_exact)\n",
    "        Error[ne] = max(error)\n",
    "        \n",
    "    error_list.append((N,Error))\n",
    "    \n",
    "        #error = sqrt(sum((q-q_exact)**2)/sum(q_exact**2))\n",
    "        #Error[ne] = error\n",
    "        #plot of the computed and exact solutions\n",
    "\n",
    "        #figure(ne)\n",
    "        #plot(x, q, label = 'Computed: Ne = {}'.format(Ne))\n",
    "        #plot(x, q_exact, '--', label = 'Exact: N = {}, Ne = {}'.format(N,Ne))\n",
    "\n",
    "        #xlabel('NE')\n",
    "        #ylabel('q')\n",
    "        #legend()\n",
    "        #grid() \n"
   ]
  },
  {
   "cell_type": "markdown",
   "metadata": {},
   "source": [
    "## Plot error vs. number of elements (NE)"
   ]
  },
  {
   "cell_type": "code",
   "execution_count": null,
   "metadata": {},
   "outputs": [],
   "source": [
    "import cg_graphics\n",
    "\n",
    "figure(1)\n",
    "clf()\n",
    "    \n",
    "for e in error_list:\n",
    "    N = e[0]\n",
    "    Error = e[1]        \n",
    "    loglog(NE, Error,'-*',markersize=5, label = 'N = {}'.format(N))\n",
    "\n",
    "xlabel('NE')\n",
    "ylabel('Error (Max-error)')\n",
    "title('Error vs number of elements')\n",
    "cg_graphics.set_xticks(NE)  # Create nice tick marks for NE\n",
    "legend()\n",
    "grid(axis='y',linestyle='--')\n",
    "show()"
   ]
  },
  {
   "cell_type": "markdown",
   "metadata": {},
   "source": [
    "## Plot error vs. degrees of freedom (DOF)"
   ]
  },
  {
   "cell_type": "code",
   "execution_count": null,
   "metadata": {},
   "outputs": [],
   "source": [
    "import cg_graphics\n",
    "figure(2)\n",
    "clf()\n",
    "    \n",
    "for e in error_list:\n",
    "    N = e[0]\n",
    "    Error = e[1]\n",
    "    \n",
    "    Np = NE*N+1\n",
    "    loglog(Np, Error,'-*',markersize=5, label = 'N = {}'.format(N))\n",
    "    \n",
    "    p = polyfit(log(NE), log(Error),1)\n",
    "    #print('N = {:d}, rate = {:f}'.format(N,p[0]))\n",
    "    P.append(p[0])\n",
    "\n",
    "xlabel('DOF')\n",
    "ylabel('Error (Max-error)')\n",
    "title('Error vs number of DOF')\n",
    "cg_graphics.set_xticks(NE*N)  # Create nice tick marks for NE\n",
    "grid(axis='both',linestyle='--')\n",
    "legend()\n",
    "show()    "
   ]
  },
  {
   "cell_type": "markdown",
   "metadata": {},
   "source": [
    "## Convergence Rates"
   ]
  },
  {
   "cell_type": "code",
   "execution_count": null,
   "metadata": {},
   "outputs": [],
   "source": [
    "for i in range(len(Order)):\n",
    "    print('N = {:d}, rate = {:f}'.format(Order[i],P[i]))"
   ]
  },
  {
   "cell_type": "code",
   "execution_count": null,
   "metadata": {},
   "outputs": [],
   "source": []
  }
 ],
 "metadata": {
  "kernelspec": {
   "display_name": "Python 3",
   "language": "python",
   "name": "python3"
  },
  "language_info": {
   "codemirror_mode": {
    "name": "ipython",
    "version": 3
   },
   "file_extension": ".py",
   "mimetype": "text/x-python",
   "name": "python",
   "nbconvert_exporter": "python",
   "pygments_lexer": "ipython3",
   "version": "3.7.4"
  }
 },
 "nbformat": 4,
 "nbformat_minor": 4
}
