{
 "cells": [
  {
   "cell_type": "code",
   "execution_count": null,
   "metadata": {},
   "outputs": [],
   "source": [
    "%matplotlib notebook\n",
    "%pylab"
   ]
  },
  {
   "cell_type": "code",
   "execution_count": null,
   "metadata": {},
   "outputs": [],
   "source": [
    "%reload_ext autoreload\n",
    "%autoreload 2"
   ]
  },
  {
   "cell_type": "markdown",
   "metadata": {},
   "source": [
    "# Wave propagation algorithm for scalar advection\n",
    "\n",
    "The one dimensional scalar advection equation considered here is \n",
    "\n",
    "\\begin{equation}\n",
    "q_t + u q_x = 0\n",
    "\\end{equation}\n",
    "\n",
    "where $q(x,t)$ is a scalar tracer quantity and $u$ is constant velocity. \n",
    "\n",
    "In the wave propagation algorithm, the update formula is given in terms of *waves*, *speeds* and *fluctuations*.  \n",
    "\n",
    "\\begin{equation}\n",
    "Q_i^{n+1} = Q_i^{n} - \\frac{\\Delta t}{\\Delta x}\\left(\\mathcal A^+ \\Delta Q_{i-1/2}  + \\mathcal A^- \\Delta Q_{i+1/2}\\right) - \\frac{\\Delta t}{\\Delta x}\\left(\\mathcal F_{i-1/2} + \\mathcal F_{i+1/2}\\right)\n",
    "\\end{equation}\n",
    "\n",
    "where integer indices are values at cell centers, and half indices are used to indicate values at cell interfaces.  \n",
    "\n",
    "For the scalar problem, the *fluctuations* $\\mathcal A^{+} \\Delta Q_{i-1/2}$ and $\\mathcal A^{-} \\Delta Q_{i+1/2}$ are defined as\n",
    "\n",
    "\\begin{eqnarray}\n",
    "\\mathcal A^{+} \\Delta Q_{i-1/2} & \\equiv & u^{+} (Q_{i} - Q_{i-1}) \\\\\n",
    "\\mathcal A^{-} \\Delta Q_{i+1/2} & \\equiv & u^{-} (Q_{i} - Q_{i-1}) \\\\\n",
    "\\end{eqnarray}\n",
    "\n",
    "where\n",
    "\n",
    "\\begin{equation*}\n",
    "u^+ \\equiv \\max(0,u) \\qquad u^- \\equiv \\min(0,u)\n",
    "\\end{equation*}\n",
    "\n",
    "The second order correction terms are given in terms of *waves* $\\mathcal W_{i-1/2}$ and *speeds* $s_{i-1/2}$ at each interface as\n",
    "\n",
    "\\begin{equation*}\n",
    "\\mathcal F_{i-1/2} = \\frac{1}{2}|s_{i-1/2}|\\left(1 - \\frac{\\Delta t}{\\Delta x} |s_{i-1/2}| \\right) \\mathcal W_{i-1/2}\n",
    "\\end{equation*}\n",
    "\n",
    "For the scalar advection equation, waves defined as the *jump* in $Q$ at interface $x_{i-1/2}$. \n",
    "\n",
    "\\begin{equation}\n",
    "\\mathcal W_{i-1/2} \\equiv Q_{i} - Q_{i-1}\n",
    "\\end{equation}\n",
    "\n",
    "Since $u$ is constant, the speeds are defined as $s_{i-1/2} \\equiv u$.   To reduce oscillations in the solution, waves are typically limited with a *wave limiter*.  \n",
    "\n",
    "\\begin{equation}\n",
    "\\widetilde{\\mathcal W}_{i-1/2} = \\theta \\; \\mathcal W_{i-1/2}\n",
    "\\end{equation}\n",
    "\n",
    "where $\\theta$ is a coefficient that typically depends on neighboring $Q$ values $Q_{i-2},Q_{i-1},Q_{i},Q_{i+1},Q_{i+2}$.\n"
   ]
  },
  {
   "cell_type": "markdown",
   "metadata": {},
   "source": [
    "## Riemann solver\n",
    "\n",
    "The waves, speeds and fluctuations are computed in a *Riemann solver*.  The solver below\n",
    "assumes that $Q_i$, $i = 0,1,...,N-1$ has been extended by a layer of two ghost cells at each end of the domain. \n",
    "\n",
    "\\begin{equation}\n",
    "Q_{ext} = \\left[\\bar{Q}_{-2}, \\bar{Q}_{-1}, Q, \\bar{Q}_{N}, \\bar{Q}_{mx+1}\\right]\n",
    "\\end{equation}\n",
    "\n",
    "where $\\bar{Q}_i$ are determined using either periodic boundary conditions, an exact solution, or some other condition, depending on the problem being solved.  Boundary conditions are \n",
    "supplied in the user function described below.  \n",
    "\n",
    "The output are the waves $\\mathcal W_{i-1/2}$, speeds $s_{i-1/2}$ and fluctations \n",
    "$\\mathcal A^+ \\Delta Q_{i-1/2}$ and $\\mathcal A^- \\Delta Q_{i-1/2}$ at cell interfaces\n",
    "$i = -3/2, -1/2, ..., N-1/2, N+1/2$.  \n"
   ]
  },
  {
   "cell_type": "code",
   "execution_count": null,
   "metadata": {},
   "outputs": [],
   "source": [
    "# Global data needed for Riemann solver and initialization routine\n",
    "\n",
    "# Constant velocity\n",
    "u = 1\n",
    "\n",
    "def rp1_advection(Q_ext):\n",
    "    \"\"\"  Input : \n",
    "            Q_ext : Array of N+4 Q values.   Boundary conditions are included.\n",
    "            \n",
    "        Output : \n",
    "            waves  : Jump in Q at edges -3/2, -1/2, ..., N-1/2, N+1/2 (N+3 values total)\n",
    "            speeds : Array of speeds (N+3 values)\n",
    "            apdq   : Positive fluctuations (N+3 values)\n",
    "            amdq   : Negative fluctuations (N+3 values)\n",
    "        \"\"\"\n",
    "    \n",
    "    # jump in Q at each interface\n",
    "    waves = Q_ext[1:]-Q_ext[:-1]\n",
    "    \n",
    "    # speeds at each interface. \n",
    "    s = u*ones(waves.shape)\n",
    "    \n",
    "    # Fluctuations\n",
    "    sm = where(s < 0,s, 0)\n",
    "    sp = where(s > 0,s, 0)\n",
    "    \n",
    "    amdq = sm*waves\n",
    "    apdq = sp*waves\n",
    "    \n",
    "    return waves,s,amdq,apdq\n",
    "\n"
   ]
  },
  {
   "cell_type": "markdown",
   "metadata": {},
   "source": [
    "## Boundary conditions\n",
    "\n",
    "The boundary conditions can be determined in a variety of ways.  Below, we prescribe\n",
    "periodic boundary conditions. "
   ]
  },
  {
   "cell_type": "code",
   "execution_count": null,
   "metadata": {},
   "outputs": [],
   "source": [
    "def bc_periodic(Q):\n",
    "    \"\"\" Extend Q with periodic boundary conditions \"\"\"\n",
    "    \n",
    "    return concatenate((Q[-2:], Q, Q[:2]))"
   ]
  },
  {
   "cell_type": "markdown",
   "metadata": {},
   "source": [
    "## Initial conditions\n",
    "\n",
    "The solver should supply an initialization routine to initialize $q(x,t)$ at time $t=0$.\n",
    "\n",
    "The exact solution is also supplied here, since it depends on the initial conditions."
   ]
  },
  {
   "cell_type": "code",
   "execution_count": null,
   "metadata": {},
   "outputs": [],
   "source": [
    "def qinit(x):\n",
    "    #return exp(-80*(x-0.5)**2)\n",
    "    return sin(2*pi*x)\n",
    "\n",
    "# this relies on velocity u set above.\n",
    "def qexact(x,t):\n",
    "    # return qinit(mod(x-u*t,1))\n",
    "    return qinit(x-u*t)"
   ]
  },
  {
   "cell_type": "markdown",
   "metadata": {},
   "source": [
    "## Problem test\n",
    "\n",
    "Below, we solve the scalar advection equation on the domain $[0,1]$ using periodic boundary conditions.  "
   ]
  },
  {
   "cell_type": "code",
   "execution_count": null,
   "metadata": {},
   "outputs": [],
   "source": [
    "import wpa\n",
    "\n",
    "# Spatial domain\n",
    "ax = 0\n",
    "bx = 1\n",
    "\n",
    "# Temporal domain\n",
    "Tfinal = 1\n",
    "\n",
    "# Numerical parameters\n",
    "cfl = 0.95"
   ]
  },
  {
   "cell_type": "markdown",
   "metadata": {},
   "source": [
    "## Sample test and plot"
   ]
  },
  {
   "cell_type": "code",
   "execution_count": null,
   "metadata": {},
   "outputs": [],
   "source": [
    "\n",
    "N = 128\n",
    "\n",
    "# Compute maximum wave speed over the msh\n",
    "umax = u    # Constant for scalar advection (set above in Riemann solver)\n",
    "    \n",
    "# Estimate time step and number of time steps to take\n",
    "dx = (bx-ax)/N\n",
    "dt_est = cfl*dx/umax;\n",
    "M = int(floor(Tfinal/dt_est) + 1)\n",
    "dt = Tfinal/M\n",
    "        \n",
    "Q,xc,tvec = wpa.claw1(ax,bx, N,  Tfinal, M, \\\n",
    "                     rp=rp1_advection, \\\n",
    "                     qinit=qinit, \\\n",
    "                     bc=bc_periodic, \\\n",
    "                     limiter_choice='MC')"
   ]
  },
  {
   "cell_type": "markdown",
   "metadata": {},
   "source": [
    "## Plot the solution"
   ]
  },
  {
   "cell_type": "code",
   "execution_count": null,
   "metadata": {
    "scrolled": false
   },
   "outputs": [],
   "source": [
    "fig = figure(1)\n",
    "clf()\n",
    "\n",
    "q0 = Q[:,0]\n",
    "hdl, = plot(xc,q0,'b.',markersize=5)\n",
    "\n",
    "xfe = linspace(ax,bx,1000)\n",
    "xfc = xfe[:-1] + dx/2\n",
    "hdl_exact, = plot(xfc,qinit(xfc),'r-')\n",
    "\n",
    "tstr = 'Wave Propagation : t = {:.4f}'\n",
    "htitle = title(tstr.format(0),fontsize=18)\n",
    "\n",
    "for i,t in enumerate(tvec):\n",
    "    q = Q[:,i]\n",
    "    \n",
    "    hdl.set_ydata(q)\n",
    "\n",
    "    qe = qinit(mod(xfc - u*t,1))\n",
    "    hdl_exact.set_ydata(qe)\n",
    "    \n",
    "    xlabel('x',fontsize=16)\n",
    "    ylabel('q(x,t)',fontsize=16)\n",
    "    htitle.set_text(tstr.format(t))\n",
    "    \n",
    "    ylim([-1.1,1.1])\n",
    "\n",
    "    fig.canvas.draw()        "
   ]
  },
  {
   "cell_type": "markdown",
   "metadata": {},
   "source": [
    "## Convergence study"
   ]
  },
  {
   "cell_type": "code",
   "execution_count": null,
   "metadata": {},
   "outputs": [],
   "source": [
    "Nv = [32,64,128,256,512,1024,2048]\n",
    "\n",
    "error = empty((len(Nv),2))\n",
    "print(\"{:>8s} {:>12s} {:>8s} {:>12s} {:>8s}\".format('N','error(1)','rate(1)','error(2)','rate(2)'))\n",
    "print(\"{:s}\".format('-'*52))\n",
    "for i,N in enumerate(Nv):\n",
    "\n",
    "    # Compute maximum wave speed over the mesh\n",
    "    umax = u    # Constant for scalar advection\n",
    "    \n",
    "    # Estimate time step\n",
    "    dx = (bx-ax)/N\n",
    "    dt_est = cfl*dx/umax;\n",
    "    M = int(floor(Tfinal/dt_est) + 1)\n",
    "    dt = Tfinal/M\n",
    "        \n",
    "    # First order solution\n",
    "    Q1,xc,tvec = wpa.claw1(ax,bx, N,  Tfinal, M, \\\n",
    "                         rp=rp1_advection, \\\n",
    "                         qinit=qinit, \\\n",
    "                         bc=bc_periodic, \\\n",
    "                         limiter_choice=None,\n",
    "                         second_order=False)\n",
    "\n",
    "    # Second order solution\n",
    "    Q2,xc,tvec = wpa.claw1(ax,bx, N,  Tfinal, M, \\\n",
    "                         rp=rp1_advection, \\\n",
    "                         qinit=qinit, \\\n",
    "                         bc=bc_periodic, \\\n",
    "                         limiter_choice=None,\n",
    "                         second_order=True)\n",
    "    \n",
    "    qe = qexact(xc,Tfinal)    \n",
    "\n",
    "    error[i,0] = abs(qe-Q1[:,-1]).max()  # First order error\n",
    "    error[i,1] = abs(qe-Q2[:,-1]).max()  # Second order error\n",
    "\n",
    "    rate_str = ['']*2\n",
    "    if i == 0:\n",
    "        rs = format(\"{:>8s}\").format('---')\n",
    "        rate_str = [rs]*2\n",
    "    else:\n",
    "        rs1 = log2(error[i-1,0]/error[i,0])  \n",
    "        rs2 = log2(error[i-1,1]/error[i,1])\n",
    "        rstr = \"{:8.4f}\"\n",
    "        rate_str = [rstr.format(rs1), rstr.format(rs2)]\n",
    "\n",
    "    print(\"{:8d} {:12.4e} {:s} {:12.4e} {:s}\".format(N,error[i,0],rate_str[0], \\\n",
    "                                                    error[i,1],rate_str[1]))\n",
    "    "
   ]
  },
  {
   "cell_type": "code",
   "execution_count": null,
   "metadata": {},
   "outputs": [],
   "source": [
    "from cg_graphics import set_xticks\n",
    "\n",
    "figure(2)\n",
    "clf()\n",
    "\n",
    "p = polyfit(log(Nv),log(error[:,0]),1)\n",
    "loglog(Nv,error[:,0],'b.-',markersize=12,label=\"First order : slope = {:.2f}\".format(p[0]))\n",
    "\n",
    "p = polyfit(log(Nv),log(error[:,1]),1)\n",
    "loglog(Nv,error[:,1],'r.-',markersize=12,label=\"Second order : slope = {:.2f}\".format(p[0]))\n",
    "\n",
    "set_xticks(Nv)\n",
    "xlabel('N',fontsize=16)\n",
    "ylabel('Error',fontsize=16)\n",
    "title('WPA : Convergence')\n",
    "       \n",
    "legend()\n",
    "\n",
    "show()"
   ]
  },
  {
   "cell_type": "code",
   "execution_count": null,
   "metadata": {},
   "outputs": [],
   "source": []
  }
 ],
 "metadata": {
  "kernelspec": {
   "display_name": "Python 3",
   "language": "python",
   "name": "python3"
  },
  "language_info": {
   "codemirror_mode": {
    "name": "ipython",
    "version": 3
   },
   "file_extension": ".py",
   "mimetype": "text/x-python",
   "name": "python",
   "nbconvert_exporter": "python",
   "pygments_lexer": "ipython3",
   "version": "3.7.4"
  }
 },
 "nbformat": 4,
 "nbformat_minor": 2
}
