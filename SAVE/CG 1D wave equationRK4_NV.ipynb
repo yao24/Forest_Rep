{
 "cells": [
  {
   "cell_type": "code",
   "execution_count": null,
   "metadata": {},
   "outputs": [],
   "source": [
    "%matplotlib notebook\n",
    "%pylab"
   ]
  },
  {
   "cell_type": "code",
   "execution_count": null,
   "metadata": {},
   "outputs": [],
   "source": [
    "# user defined parameters\n",
    "u = 2   # velocity\n",
    "Tf = 0.025  # final time\n",
    "ax = -1; bx = 1\n",
    "sigma = 1/8\n",
    "#qinit = lambda x: np.exp(-(x/(2*sigma))**2)\n",
    "qinit = lambda x : sin(2*pi*x)\n",
    "\n",
    "# function f(q(x,t)) = u*q(x,t)\n",
    "\n",
    "fe = lambda q: u*q\n"
   ]
  },
  {
   "cell_type": "code",
   "execution_count": null,
   "metadata": {},
   "outputs": [],
   "source": [
    "N = 3 # order of the legendre polynomial\n",
    "Q = N+1\n",
    "a = 0.01  # CFL number"
   ]
  },
  {
   "cell_type": "code",
   "execution_count": null,
   "metadata": {},
   "outputs": [],
   "source": [
    "def Lobatto_deriv(Q, x):\n",
    "    F = [] # array containing the polynomials\n",
    "    dF = []\n",
    "    ddF = []\n",
    "\n",
    "\n",
    "    f0 = 1; F.append(f0)  # first polynomial\n",
    "    df0 = 0; dF.append(df0)\n",
    "    f1 = x; F.append(f1)  # second polynomial\n",
    "    df1 = 1; dF.append(df1)\n",
    "    ddF = [0,0]\n",
    "\n",
    "    B = []\n",
    "    dB = []\n",
    "\n",
    "\n",
    "    for i in range(2, Q+1):\n",
    "        fi = ((2*i-1)/i)*x*F[i-1] - ((i-1)/i)*F[i-2]  # iteration of the polynomials\n",
    "        dfi = i*F[i-1] + x*dF[i-1]                    # first derivative\n",
    "        F.append(fi)\n",
    "        dF.append(dfi)\n",
    "        ddfi = (i+1.0)*dF[i-1] + x*ddF[i-1]           # second derivative\n",
    "        ddF.append(ddfi)\n",
    "\n",
    "        bi = (1.0-x**2)*dF[i-1]                       # lobatto polynomial\n",
    "        dbi = -2.0*x*dF[i-1] + (1.0-x**2)*ddF[i-1]    # derivative of lobatto polynomial\n",
    "        B.append(bi)\n",
    "        dB.append(dbi)\n",
    "        \n",
    "    return B[-1], dB[-1]"
   ]
  },
  {
   "cell_type": "code",
   "execution_count": null,
   "metadata": {},
   "outputs": [],
   "source": [
    "def Legendre_deriv(Q, x):\n",
    "    L = [] # array containing the polynomials\n",
    "    dL = []\n",
    "\n",
    "\n",
    "    f0 = 1; L.append(f0)  # first polynomial\n",
    "    df0 = 0; dL.append(df0)\n",
    "    f1 = x; L.append(f1)  # second polynomial\n",
    "    df1 = 1; dL.append(df1)\n",
    "    \n",
    "\n",
    "    for i in range(2, Q+1):\n",
    "        fi = ((2*i-1)/i)*x*L[i-1] - ((i-1)/i)*L[i-2]  # iteration of the polynomials\n",
    "        dfi = i*L[i-1] + x*dL[i-1]\n",
    "        L.append(fi)\n",
    "        dL.append(dfi)\n",
    "        \n",
    "    return L[-1], dL[-1]"
   ]
  },
  {
   "cell_type": "code",
   "execution_count": null,
   "metadata": {},
   "outputs": [],
   "source": [
    "def Lobatto_p(Q):\n",
    "    X = []  # Array that contains legendre points\n",
    "    K = 100  # Order of approximation of Newton method\n",
    "    e = 10**(-20) #error\n",
    "    for i in range(0, Q+1):\n",
    "        xi0 = cos(((2*i+1)/(2*Q+2))*pi)   # Chebchev points\n",
    "        \n",
    "\n",
    "        xik = xi0\n",
    "\n",
    "        for k in range(0, K):\n",
    "            out1, out2 = Lobatto_deriv(Q+1, xik)\n",
    "            xikk = xik - out1/out2   # approximation of the solution using Newton\n",
    "\n",
    "            if abs(xikk-xik) < e:\n",
    "\n",
    "                break\n",
    "\n",
    "            xik = xikk\n",
    "\n",
    "        X.append(xikk)\n",
    "    return X"
   ]
  },
  {
   "cell_type": "code",
   "execution_count": null,
   "metadata": {},
   "outputs": [],
   "source": [
    "def LagrangeBasis(N, i, xl, Xr):\n",
    "    \n",
    "    L = 1\n",
    "    dL = 0\n",
    "        \n",
    "    for j in range(N+1):\n",
    "            \n",
    "        prod = 1\n",
    "        \n",
    "        if (j != i):\n",
    "            L = L*(xl-Xr[j])/(Xr[i]-Xr[j])\n",
    "                \n",
    "            for k in range(N+1):\n",
    "                if (k!=i  and k!=j):\n",
    "                    prod = prod*(xl-Xr[k])/(Xr[i]-Xr[k])\n",
    "        \n",
    "            dL = dL+prod/(Xr[i]-Xr[j])\n",
    "    return L, dL"
   ]
  },
  {
   "cell_type": "markdown",
   "metadata": {},
   "source": [
    "## Array intma"
   ]
  },
  {
   "cell_type": "code",
   "execution_count": null,
   "metadata": {},
   "outputs": [],
   "source": [
    "def intma(e, N):\n",
    "    t = (e-1)*N\n",
    "    r = N*e\n",
    "    intmm = []\n",
    "    for s in range(t, r+1):\n",
    "        intmm.append(s)\n",
    "    \n",
    "    return array(intmm)\n"
   ]
  },
  {
   "cell_type": "markdown",
   "metadata": {},
   "source": [
    "## Weight values"
   ]
  },
  {
   "cell_type": "code",
   "execution_count": null,
   "metadata": {},
   "outputs": [],
   "source": [
    "#funtion that compute weight values based on quadrature rule\n",
    "def weight(Q):\n",
    "    xi = Lobatto_p(Q)\n",
    "    w = zeros(Q+1)\n",
    "    for i in range(Q+1):\n",
    "        out1, out2 = Legendre_deriv(Q, xi[i])\n",
    "        w[i] = 2/(Q*(Q+1)*(out1)**2)\n",
    "        \n",
    "    return w \n",
    "\n",
    "#weight(Q)"
   ]
  },
  {
   "cell_type": "markdown",
   "metadata": {},
   "source": [
    "## Element mass matrix"
   ]
  },
  {
   "cell_type": "code",
   "execution_count": null,
   "metadata": {},
   "outputs": [],
   "source": [
    "def Element_matrix(N,Q):\n",
    "    Me = zeros((N+1, N+1))       # initialisation of the matrix\n",
    "    Xr = Lobatto_p(N)               # roots\n",
    "    Xi = Lobatto_p(Q)               # Lobatto points\n",
    "    w = weight(Q)                   # weight values\n",
    "\n",
    "    for i in range(N+1):\n",
    "\n",
    "        for j in range(N+1):\n",
    "            for k in range(Q+1):\n",
    "                xi, a1 = LagrangeBasis(N, i, Xi[k], Xr)\n",
    "                xj, a2 = LagrangeBasis(N, j, Xi[k], Xr)\n",
    "                Me[i,j] = Me[i,j]+ w[k]*xi*xj\n",
    "\n",
    "\n",
    "\n",
    "    Me = (1/2)*Me\n",
    "\n",
    "    return Me\n",
    "\n",
    "#Element_matrix(N,Q)"
   ]
  },
  {
   "cell_type": "markdown",
   "metadata": {},
   "source": [
    "## Global mass matrix"
   ]
  },
  {
   "cell_type": "code",
   "execution_count": null,
   "metadata": {},
   "outputs": [],
   "source": [
    "def GMM(Ne, intma, N, Q):\n",
    "    \n",
    "    Np = Ne*N+1\n",
    "    \n",
    "    w = weight(Q)\n",
    "    Me = Element_matrix(N,Q)\n",
    "    M = zeros((Np, Np))\n",
    "    \n",
    "    for e in range(1,Ne+1):\n",
    "        for j in range(N+1):\n",
    "            \n",
    "            J = intma(e, N)[j]\n",
    "            \n",
    "            for i in range(N+1):\n",
    "                \n",
    "                I = intma(e, N)[i]\n",
    "                \n",
    "                M[I,J] = M[I,J] + ((bx-ax)/Ne)*Me[i,j]\n",
    "    return M\n",
    "\n",
    "#GMM(Ne, intma, N, Q)"
   ]
  },
  {
   "cell_type": "markdown",
   "metadata": {},
   "source": [
    "## Differential element matrix"
   ]
  },
  {
   "cell_type": "code",
   "execution_count": null,
   "metadata": {},
   "outputs": [],
   "source": [
    "def Element_Diff_matrix(N):\n",
    "    De = zeros((N+1, N+1))\n",
    "    Xi = Lobatto_p(N)\n",
    "    w = weight(N)\n",
    "\n",
    "    for i in range(N+1):\n",
    "\n",
    "        for j in range(N+1):\n",
    "            for k in range(N+1):\n",
    "                xi, a1 = LagrangeBasis(N, i, Xi[k], Xi)\n",
    "                a2, xj = LagrangeBasis(N, j, Xi[k], Xi)\n",
    "                De[i,j] = De[i,j]- w[k]*xi*xj\n",
    "\n",
    "    return De\n",
    "\n",
    "De = Element_Diff_matrix(N)"
   ]
  },
  {
   "cell_type": "code",
   "execution_count": null,
   "metadata": {},
   "outputs": [],
   "source": []
  },
  {
   "cell_type": "markdown",
   "metadata": {},
   "source": [
    "# Function for that compute residual global vector"
   ]
  },
  {
   "cell_type": "code",
   "execution_count": null,
   "metadata": {},
   "outputs": [],
   "source": [
    "# function that compute global residual vector\n",
    "\n",
    "def Resi(Ne, q, N,Miv):\n",
    "    \n",
    "    Np = Ne*N+1\n",
    "    \n",
    "    fe = lambda q: u*q\n",
    "    \n",
    "    R = zeros(Np)                 # global residual vector\n",
    "    \n",
    "    for e in range(1, Ne+1):         # element loop\n",
    "\n",
    "        # discretizing into element \n",
    "\n",
    "        Ie  = intma(e, N)\n",
    "        \n",
    "        # discretizing into element \n",
    "        \n",
    "        qe = q[Ie]\n",
    "               \n",
    "        # residual for each element\n",
    "\n",
    "        Re = zeros(N+1)\n",
    "\n",
    "        for i in range(N+1):\n",
    "        \n",
    "            Re[i] = - dot(De[i],fe(qe))\n",
    "            \n",
    "            # compuataion of global residual vector\n",
    "\n",
    "            I = Ie[i] #intma(e,N)[i]            \n",
    "\n",
    "            R[I] = R[I] + Re[i]\n",
    "    \n",
    "    # reinitialisation of the global residual vector using inverse mass matrix\n",
    "    \n",
    "    GR = zeros(Np) \n",
    "    \n",
    "    for I in range(Np):\n",
    "        \n",
    "        GR[I] = dot(Miv[I],R)\n",
    "        \n",
    "    return GR"
   ]
  },
  {
   "cell_type": "markdown",
   "metadata": {},
   "source": [
    "# Solver for 1D wave equation: Time integration (RK4)"
   ]
  },
  {
   "cell_type": "code",
   "execution_count": null,
   "metadata": {},
   "outputs": [],
   "source": [
    "def Solver_1DW(N,Ne,M, x,t,dt):\n",
    "    \n",
    "    \n",
    "    #q0 = qinit(x)         # defined initial condition\n",
    "    q0 = array([qinit(l) for l in x])\n",
    "    # Boundary conditions\n",
    "\n",
    "    q0[0] = qinit(ax) \n",
    "    q0[-1] = qinit(bx) \n",
    "\n",
    "    \n",
    "    #inverse of global mass matrix\n",
    "    \n",
    "    MM = GMM(Ne, intma, N, Q)\n",
    "    \n",
    "    Miv = linalg.inv(MM)     \n",
    "\n",
    "    # computation of the solution of 1D wave equation\n",
    "    qn = q0     \n",
    "\n",
    "    for n in range(M):                   # time loop\n",
    "\n",
    "        K1 = Resi(Ne, qn,N, Miv)\n",
    "\n",
    "        # soultion for the wave equation at time n+1\n",
    "\n",
    "        qh = qn + (dt/2)*K1\n",
    "\n",
    "        K2 = Resi(Ne,qh, N,Miv)\n",
    "        \n",
    "        Ph = qn + (dt/2)*K2\n",
    "        \n",
    "        K3 = Resi(Ne, Ph, N, Miv)\n",
    "        \n",
    "        P = qn + dt*K3\n",
    "        \n",
    "        K4 = Resi(Ne, P, N, Miv)\n",
    "        \n",
    "\n",
    "        qn1 = qn + (dt/6)*(K1+2*K2+2*K3+K4) \n",
    "\n",
    "        qn1[0] = qinit(ax-u*t[n+1])\n",
    "        qn1[-1] = qinit(bx-u*t[n+1])\n",
    "        \n",
    "        qn = qn1\n",
    "    \n",
    "    return qn1"
   ]
  },
  {
   "cell_type": "code",
   "execution_count": null,
   "metadata": {
    "scrolled": false
   },
   "outputs": [],
   "source": [
    "# list of the number of elements\n",
    "\n",
    "NE = array([20,40,80,160])\n",
    "l = len(NE)\n",
    "\n",
    "# array that contains the error for each iteration\n",
    "Error = zeros(l)\n",
    "\n",
    "for ne in range(l):\n",
    "    \n",
    "    Ne = NE[ne]\n",
    "    Np = N*Ne+1\n",
    "    \n",
    "    # space stuff\n",
    "    #x = np.linspace(-1, 1, Np)\n",
    "    \n",
    "    x = zeros(Np)\n",
    "    xel = linspace(-1,1,Ne+1)\n",
    "    xe2 = array(Lobatto_p(N))\n",
    "    xe = xe2[::-1]\n",
    "    for e in range(1,Ne+1):\n",
    "        ae=xel[e-1] ; be=xel[e]\n",
    "       \n",
    "        xsi=((be-ae)/2)*(xe-1) + be\n",
    "        #print('a=',a)\n",
    "        #print('b=',b)\n",
    "        #print('xsi=',xsi)\n",
    "        for i in range(0,N+1):\n",
    "            ip=intma(e,N)[i]\n",
    "            #print('ip=',ip)\n",
    "            x[ip]=xsi[i]\n",
    "    #x = np.linspace(-1, 1, Np)\n",
    "    \n",
    "    dx = (bx-ax)/(Np-1)   # for second order\n",
    "\n",
    "    #time stuff\n",
    "\n",
    "    fixed_dt= True\n",
    "    if (fixed_dt):\n",
    "        dx0 = (bx-ax)/(NE[0]*N)\n",
    "        dtest = a*dx0/np.abs(u)\n",
    "        M0 = int(Tf//dtest)+1    # Number of time steps\n",
    "        dt0 = Tf/M0\n",
    "    \n",
    "        f = log2(dx0/dx)\n",
    "        dt = dt0/2**f\n",
    "        M = int(M0*2**f)\n",
    "        print('M = {:d}'.format(M))\n",
    "    else:        \n",
    "        dtest = a*dx/np.abs(u)\n",
    "        M = Tf//dtest+1    # Number of time steps\n",
    "        M0 = int(M)\n",
    "        dt = Tf/M\n",
    "\n",
    "    t = linspace(0, Tf, M+1)\n",
    "\n",
    "\n",
    "    # approximate solution of the wave equation\n",
    "    q = Solver_1DW(N,Ne,M,x,t,dt)\n",
    "    \n",
    "    # exact solution\n",
    "    q_exact = qinit(x-u*t[M])\n",
    "    #error\n",
    "    error = abs(q-q_exact)\n",
    "    Error[ne] = max(error)\n",
    "    #error = sqrt(sum((q-q_exact)**2)/sum(q_exact**2))\n",
    "    #Error[ne] = error\n",
    "    #plot of the computed and exact solutions\n",
    "    \n",
    "    figure(ne)\n",
    "    plot(x, q, label = 'Computed: Ne = {}'.format(Ne))\n",
    "    plot(x, q_exact, '--', label = 'Exact: Ne = {}'.format(Ne))\n",
    "    \n",
    "    xlabel('NE')\n",
    "    ylabel('q')\n",
    "    legend()\n",
    "    grid() \n",
    "    \n",
    "    "
   ]
  },
  {
   "cell_type": "code",
   "execution_count": null,
   "metadata": {
    "scrolled": false
   },
   "outputs": [],
   "source": [
    "figure(7)\n",
    "loglog(NE, Error,'k.',markersize=15)\n",
    "show()"
   ]
  },
  {
   "cell_type": "code",
   "execution_count": null,
   "metadata": {
    "scrolled": true
   },
   "outputs": [],
   "source": [
    "Np = NE*N+1\n",
    "p = polyfit(log(NE), log(Error),1)\n",
    "p"
   ]
  },
  {
   "cell_type": "code",
   "execution_count": null,
   "metadata": {
    "scrolled": true
   },
   "outputs": [],
   "source": [
    "Error"
   ]
  },
  {
   "cell_type": "code",
   "execution_count": null,
   "metadata": {},
   "outputs": [],
   "source": [
    "#error"
   ]
  },
  {
   "cell_type": "code",
   "execution_count": null,
   "metadata": {},
   "outputs": [],
   "source": [
    "#x = log(NE[1]) - log(NE[0])\n",
    "#y = log(Error[1]) - log(Error[0])\n",
    "\n",
    "#slope = y/x\n",
    "#slope"
   ]
  },
  {
   "cell_type": "code",
   "execution_count": null,
   "metadata": {},
   "outputs": [],
   "source": [
    "Np"
   ]
  },
  {
   "cell_type": "code",
   "execution_count": null,
   "metadata": {},
   "outputs": [],
   "source": []
  }
 ],
 "metadata": {
  "kernelspec": {
   "display_name": "Python 3",
   "language": "python",
   "name": "python3"
  },
  "language_info": {
   "codemirror_mode": {
    "name": "ipython",
    "version": 3
   },
   "file_extension": ".py",
   "mimetype": "text/x-python",
   "name": "python",
   "nbconvert_exporter": "python",
   "pygments_lexer": "ipython3",
   "version": "3.7.4"
  }
 },
 "nbformat": 4,
 "nbformat_minor": 4
}
