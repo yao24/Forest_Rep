{
 "cells": [
  {
   "cell_type": "code",
   "execution_count": null,
   "metadata": {},
   "outputs": [],
   "source": [
    "%matplotlib notebook\n",
    "%pylab"
   ]
  },
  {
   "cell_type": "markdown",
   "metadata": {},
   "source": [
    "# Infinity Norm"
   ]
  },
  {
   "cell_type": "code",
   "execution_count": null,
   "metadata": {},
   "outputs": [],
   "source": [
    "NE = [10,20,30,40,50]\n",
    "\n",
    "E_N1 = array([0.18067084, 0.0966618 , 0.04846108, 0.02807382, 0.01830156])\n",
    "\n",
    "E_N2 = array([0.09611928, 0.02496948, 0.01117672, 0.00637162, 0.00414175])\n",
    "\n",
    "E_N3 = array([6.58775730e-03, 3.42205912e-04, 6.82612433e-05, 2.12621027e-05, 9.22453931e-06])\n",
    "\n",
    "E_N4 = array([5.60095629e-04, 3.28446407e-05, 6.42235989e-06, 2.00579448e-06, 8.24203874e-07])\n",
    "\n",
    "E_N6 = array([1.26356776e-06, 1.74547568e-08, 1.61457603e-09, 3.24301253e-10, 9.68564673e-11])\n",
    "\n",
    "E_N8 = array([9.41695606e-09, 6.33893563e-10, 1.25952294e-10, 3.99132810e-11, 1.63519788e-11])\n",
    "\n",
    "E_N16 = array([5.31086286e-10, 3.32503417e-11, 6.57261572e-12, 2.08447235e-12, 8.52121325e-13])"
   ]
  },
  {
   "cell_type": "markdown",
   "metadata": {},
   "source": [
    "N = 8 rate = -4.08331543"
   ]
  },
  {
   "cell_type": "code",
   "execution_count": null,
   "metadata": {
    "scrolled": false
   },
   "outputs": [],
   "source": [
    "figure(1)\n",
    "clf()\n",
    "loglog(NE, E_N1,'k.',markersize=15)\n",
    "p1 = polyfit(log(NE[2:]),log(E_N1[2:]),1)\n",
    "loglog(NE,exp(polyval(p1,log(NE))),'r--',label = 'N = 1 (rate = {:.2f})'.format(p1[0]))\n",
    "\n",
    "loglog(NE, E_N2,'k.',markersize=15)\n",
    "p2 = polyfit(log(NE[2:]),log(E_N2[2:]),1)\n",
    "loglog(NE,exp(polyval(p2,log(NE))),'g--',label = 'N = 2 (rate={:.2f})'.format(p2[0]))\n",
    "\n",
    "\n",
    "loglog(NE, E_N3,'k.',markersize=15)\n",
    "p3 = polyfit(log(NE[2:]),log(E_N3[2:]),1)\n",
    "loglog(NE,exp(polyval(p3,log(NE))),'b--',label = 'N = 3 (rate={:.2f})'.format(p3[0]))\n",
    "\n",
    "\n",
    "loglog(NE, E_N4,'k.',markersize=15)\n",
    "p4 = polyfit(log(NE[2:]),log(E_N4[2:]),1)\n",
    "loglog(NE,exp(polyval(p4,log(NE))),'m--',label = 'N = 4 (rate={:.2f})'.format(p4[0]))\n",
    "\n",
    "\n",
    "\n",
    "#xp2 = polyfit(log(Np2),log(E_N2),1)\n",
    "#p3 = polyfit(log(Np3),log(E_N3),1)\n",
    "\n",
    "\n",
    "# loglog(NE, E_N6,label = 'N = 6')\n",
    "#loglog(NE, E_N8,label = 'N = 8')\n",
    "#loglog(NE, E_N16,label = 'N = 16')\n",
    "title('Convergence rate with various value of N (Max-norm)')\n",
    "xlabel('log Ne')\n",
    "ylabel('log Error')\n",
    "legend()\n",
    "savefig(\"Errot_max.png\",format='png',dpi=600)\n",
    "show()"
   ]
  },
  {
   "cell_type": "code",
   "execution_count": null,
   "metadata": {},
   "outputs": [],
   "source": []
  },
  {
   "cell_type": "markdown",
   "metadata": {},
   "source": [
    "N = 1  rate = -1.4\n",
    "\n",
    "N = 2  rate = -1.94555949\n",
    "\n",
    "N = 3  rate = -4.08331543\n",
    "\n",
    "N = 4  rate = -4.00683529\n",
    "\n",
    "N = 6  rate = -5.75553732\n",
    "\n",
    "N = 8  rate = -3.91062696\n",
    "\n",
    "N = 16 rate = -3.98673764"
   ]
  },
  {
   "cell_type": "markdown",
   "metadata": {},
   "source": [
    "# Normalized L2 Norm"
   ]
  },
  {
   "cell_type": "code",
   "execution_count": null,
   "metadata": {},
   "outputs": [],
   "source": [
    "NE = array([10,20,30,40,50])\n",
    "#N = array([1,2,3,4,6,8,16])\n",
    "#Np = NE*N+1\n",
    "\n",
    "E_N1 = array([1.27261157, 0.18067084, 0.0966618 , 0.02807382, 0.01830156])\n",
    "\n",
    "E_N2 = array([0.32613309, 0.09611928, 0.02496948, 0.00637162, 0.00414175])\n",
    "\n",
    "E_N3 = array([7.77632607e-01, 6.58775730e-03, 3.42205912e-04, 2.12621027e-05, 9.22453931e-06])\n",
    "\n",
    "E_N4 = array([8.24388057e-03, 5.60095629e-04, 3.28446407e-05, 2.00579448e-06, 8.24203874e-07])\n",
    "\n",
    "E_N6 = array([8.75251882e-05, 1.26356776e-06, 1.74547568e-08, 3.24301253e-10, 9.68564673e-11])\n",
    "\n",
    "E_N8 = array([3.59841929e-07, 9.41695606e-09, 6.33893563e-10, 3.99132810e-11,\n",
    "       1.63519788e-11])\n",
    "\n",
    "E_N16 = array([2.84223304e-10, 1.77905353e-11, 3.52047380e-12, 1.11981272e-12, 4.67257509e-13])"
   ]
  },
  {
   "cell_type": "code",
   "execution_count": null,
   "metadata": {},
   "outputs": [],
   "source": [
    "Np1  = NE*1+1\n",
    "Np2 = NE*2+1\n",
    "Np3 = NE*3+1\n",
    "Np4 = NE*4+1\n",
    "Np6 = NE*6+1\n",
    "Np8 = NE*8+1\n",
    "Np16 = NE*16+1"
   ]
  },
  {
   "cell_type": "code",
   "execution_count": null,
   "metadata": {},
   "outputs": [],
   "source": [
    "p1 = polyfit(log(Np1),log(E_N1),1)\n",
    "p2 = polyfit(log(Np2),log(E_N2),1)\n",
    "p3 = polyfit(log(Np3),log(E_N3),1)\n",
    "\n",
    "p4 = polyfit(log(Np3),log(E_N4),1)\n",
    "p6 = polyfit(log(Np6),log(E_N6),1)\n",
    "p8 = polyfit(log(Np8),log(E_N8),1)\n",
    "p16 = polyfit(log(Np16),log(E_N16),1)\n",
    "print(p1[0])\n",
    "print(p2[0])\n",
    "print(p3[0])\n",
    "print(p4[0])\n",
    "print(p6[0])\n",
    "print(p8[0])\n",
    "print(p16[0])"
   ]
  },
  {
   "cell_type": "code",
   "execution_count": null,
   "metadata": {},
   "outputs": [],
   "source": [
    "figure(2)\n",
    "loglog(Np1, E_N1,label = 'N = 1(rate = -1.849)')\n",
    "loglog(Np2, E_N2,label = 'N = 2(rate = -1.978)')\n",
    "loglog(Np3, E_N3,label = 'N = 3(rate = -4.897)')\n",
    "loglog(Np4, E_N4,label = 'N = 4(rate = -4.088)')\n",
    "loglog(Np6, E_N6,label = 'N = 6(rate = -5.755)')\n",
    "loglog(Np8, E_N8,label = 'N = 8(rate = -4.302)')\n",
    "loglog(Np16, E_N16,label = 'N = 16(rate = -3.986)')\n",
    "title('Convergence rate with various value of N (L2-norm)')\n",
    "xlabel('log Np')\n",
    "ylabel('log Error')\n",
    "#legend(loc='center left', bbox_to_anchor=(0.8, 0.5))\n",
    "legend()\n",
    "savefig(\"Errot_L2.png\",format='png',dpi=600)\n",
    "show()"
   ]
  },
  {
   "cell_type": "code",
   "execution_count": null,
   "metadata": {},
   "outputs": [],
   "source": []
  },
  {
   "cell_type": "code",
   "execution_count": null,
   "metadata": {},
   "outputs": [],
   "source": []
  },
  {
   "cell_type": "code",
   "execution_count": null,
   "metadata": {},
   "outputs": [],
   "source": [
    "NE = [5,10,20,40, 80,160]\n",
    "\n",
    "E_N1 = array([1.05941756, 0.12576311, 0.07344654, 0.02055218, 0.00526303, 0.00132399])\n",
    "\n",
    "E_N2 = array([0.24131174, 0.05952922, 0.01560912, 0.00403087, 0.00102467, 0.00025869])\n",
    "\n",
    "E_N3 = array([5.44536612e-01, 5.13654774e-03, 2.79240712e-04, 1.75114599e-05, 1.08503889e-06, 6.75248512e-08])\n",
    "\n",
    "E_N4 = array([6.91580415e-03, 3.99717252e-04, 2.49172583e-05, 1.54512216e-06, 9.71227709e-08, 6.08913333e-09])\n",
    "\n",
    "E_N6 = array([6.33849318e-05, 8.11766176e-07, 1.32237115e-08, 2.59303110e-10, 7.56626433e-12, 3.44278179e-13])\n",
    "\n",
    "E_N8 = array([2.32108964e-07, 5.17236949e-09, 3.69937380e-10, 2.33999018e-11, 1.47005902e-12, 1.92571320e-13])\n",
    "E_N16 = array([2.84223304e-10, 1.77905353e-11, 3.52047380e-12, 1.11981272e-12, 4.67257509e-13])"
   ]
  },
  {
   "cell_type": "markdown",
   "metadata": {},
   "source": [
    "N = 1 , rate = -1.822\n",
    "N = 2 , rate = -1.967\n",
    "N = 3 , rate = -4.438\n",
    "N = 4 , rate = -4.0173\n",
    "N = 6 , rate = -5.516\n",
    "N = 8 , rate = -4.00942295"
   ]
  },
  {
   "cell_type": "code",
   "execution_count": null,
   "metadata": {},
   "outputs": [],
   "source": []
  }
 ],
 "metadata": {
  "kernelspec": {
   "display_name": "Python 3",
   "language": "python",
   "name": "python3"
  },
  "language_info": {
   "codemirror_mode": {
    "name": "ipython",
    "version": 3
   },
   "file_extension": ".py",
   "mimetype": "text/x-python",
   "name": "python",
   "nbconvert_exporter": "python",
   "pygments_lexer": "ipython3",
   "version": "3.7.4"
  }
 },
 "nbformat": 4,
 "nbformat_minor": 4
}
