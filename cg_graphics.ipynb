{
 "cells": [
  {
   "cell_type": "code",
   "execution_count": 6,
   "metadata": {},
   "outputs": [
    {
     "name": "stdout",
     "output_type": "stream",
     "text": [
      "Overwriting cg_graphics.py\n"
     ]
    }
   ],
   "source": [
    "%%file cg_graphics.py\n",
    "\n",
    "import numpy as np\n",
    "import matplotlib.pyplot as plt\n",
    "# set up nice tick marks for log data\n",
    "def set_xticks(P):\n",
    "    p0 = np.log2(P[0])\n",
    "    p1 = np.log2(P[-1])\n",
    "    plt.xlim([2**(p0-1), 2**(p1+1)])\n",
    "    \n",
    "    Pstr = (['{:d}'.format(int(p)) for p in P])\n",
    "    plt.xticks(P,Pstr)"
   ]
  },
  {
   "cell_type": "code",
   "execution_count": null,
   "metadata": {},
   "outputs": [],
   "source": []
  }
 ],
 "metadata": {
  "kernelspec": {
   "display_name": "Python 3",
   "language": "python",
   "name": "python3"
  },
  "language_info": {
   "codemirror_mode": {
    "name": "ipython",
    "version": 3
   },
   "file_extension": ".py",
   "mimetype": "text/x-python",
   "name": "python",
   "nbconvert_exporter": "python",
   "pygments_lexer": "ipython3",
   "version": "3.7.4"
  }
 },
 "nbformat": 4,
 "nbformat_minor": 2
}
